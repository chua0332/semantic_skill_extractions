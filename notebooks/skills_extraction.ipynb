{
 "cells": [
  {
   "cell_type": "code",
   "execution_count": 62,
   "metadata": {},
   "outputs": [],
   "source": [
    "from ssg_sea.extract_skills import extract_skills, batch_extract_skills\n",
    "from transformers import pipeline\n",
    "from sentence_transformers import SentenceTransformer\n",
    "from sklearn.metrics.pairwise import cosine_similarity\n",
    "import pandas as pd\n",
    "import numpy as np\n",
    "import requests\n",
    "\n",
    "\n",
    "#initializing language model\n",
    "model = SentenceTransformer('all-mpnet-base-v2')\n",
    "\n",
    "#intitializing JINZHA span extraction model\n",
    "token_skill_classifier = pipeline(model=\"jjzha/jobbert_skill_extraction\", aggregation_strategy=\"first\")\n",
    "token_knowledge_classifier = pipeline(model=\"jjzha/jobbert_knowledge_extraction\", aggregation_strategy=\"first\")"
   ]
  },
  {
   "cell_type": "code",
   "execution_count": 32,
   "metadata": {},
   "outputs": [
    {
     "data": {
      "text/plain": [
       "'/Users/eugenechua/Downloads/semantic_skill_extractions/notebooks'"
      ]
     },
     "execution_count": 32,
     "metadata": {},
     "output_type": "execute_result"
    }
   ],
   "source": [
    "import os\n",
    "os.getcwd()"
   ]
  },
  {
   "cell_type": "code",
   "execution_count": 33,
   "metadata": {},
   "outputs": [
    {
     "name": "stdout",
     "output_type": "stream",
     "text": [
      "(5833, 4)\n"
     ]
    }
   ],
   "source": [
    "df = pd.read_csv('/Users/eugenechua/Downloads/semantic_skill_extractions/data/skill_master_dedup_06nov2022.csv')\n",
    "df = df[['skill_id', 'skill_title', 'dup_parent']]\n",
    "df['merged_title'] = df['dup_parent'].combine_first(df.skill_title)\n",
    "df['source'] = 'skill title'\n",
    "\n",
    "df = df[['merged_title', 'skill_title', 'skill_id', 'source']]\n",
    "\n",
    "# Including the 2k skills descriptions\n",
    "df2 = pd.read_csv('/Users/eugenechua/Downloads/semantic_skill_extractions/data/unique_2k_skills.csv')\n",
    "df2 = df2[['skill_title', 'skill_description_final', 'skill_id']]\n",
    "df2['source'] = 'full description'\n",
    "df2.columns = ['merged_title', 'skill_title', 'skill_id', 'source']\n",
    "\n",
    "df2 = df2.dropna()\n",
    "\n",
    "#Drop all NAs\n",
    "df_cleaned = pd.concat([df, df2], ignore_index = True)\n",
    "df_cleaned = df_cleaned.dropna()\n",
    "print(df_cleaned.shape)"
   ]
  },
  {
   "cell_type": "code",
   "execution_count": 11,
   "metadata": {},
   "outputs": [],
   "source": [
    "b = list(df_cleaned['skill_title'])\n",
    "embeddings = model.encode(b)"
   ]
  },
  {
   "attachments": {},
   "cell_type": "markdown",
   "metadata": {},
   "source": [
    "Next **2 chunks** of codes is just to save the embeddings for easy access for deployment"
   ]
  },
  {
   "cell_type": "code",
   "execution_count": 15,
   "metadata": {},
   "outputs": [],
   "source": [
    "from numpy import savetxt\n",
    "\n",
    "savetxt('/Users/eugenechua/Downloads/semantic_skill_extractions/data/skills_embeddings.csv', embeddings, delimiter=',')\n"
   ]
  },
  {
   "cell_type": "code",
   "execution_count": 16,
   "metadata": {},
   "outputs": [
    {
     "name": "stdout",
     "output_type": "stream",
     "text": [
      "(5833, 768)\n"
     ]
    }
   ],
   "source": [
    "from numpy import loadtxt\n",
    "\n",
    "embeddings = loadtxt('/Users/eugenechua/Downloads/semantic_skill_extractions/data/skills_embeddings.csv', delimiter=',')\n",
    "print(embeddings.shape)"
   ]
  },
  {
   "cell_type": "code",
   "execution_count": 37,
   "metadata": {},
   "outputs": [
    {
     "data": {
      "text/html": [
       "<div>\n",
       "<style scoped>\n",
       "    .dataframe tbody tr th:only-of-type {\n",
       "        vertical-align: middle;\n",
       "    }\n",
       "\n",
       "    .dataframe tbody tr th {\n",
       "        vertical-align: top;\n",
       "    }\n",
       "\n",
       "    .dataframe thead th {\n",
       "        text-align: right;\n",
       "    }\n",
       "</style>\n",
       "<table border=\"1\" class=\"dataframe\">\n",
       "  <thead>\n",
       "    <tr style=\"text-align: right;\">\n",
       "      <th></th>\n",
       "      <th>0</th>\n",
       "      <th>1</th>\n",
       "      <th>2</th>\n",
       "    </tr>\n",
       "  </thead>\n",
       "  <tbody>\n",
       "    <tr>\n",
       "      <th>0</th>\n",
       "      <td>[0.0645764097571373, 0.007018603850156069, -0....</td>\n",
       "      <td>supplier sourcing</td>\n",
       "      <td>skill title</td>\n",
       "    </tr>\n",
       "    <tr>\n",
       "      <th>1</th>\n",
       "      <td>[-0.025321509689092636, -0.04846109449863434, ...</td>\n",
       "      <td>heavy lifting machinery operation</td>\n",
       "      <td>skill title</td>\n",
       "    </tr>\n",
       "    <tr>\n",
       "      <th>2</th>\n",
       "      <td>[0.010486770421266556, -0.008886554278433323, ...</td>\n",
       "      <td>JavaFX</td>\n",
       "      <td>skill title</td>\n",
       "    </tr>\n",
       "    <tr>\n",
       "      <th>3</th>\n",
       "      <td>[-0.021288812160491943, -0.06264938414096832, ...</td>\n",
       "      <td>perform rigging of suspended scaffold</td>\n",
       "      <td>skill title</td>\n",
       "    </tr>\n",
       "    <tr>\n",
       "      <th>4</th>\n",
       "      <td>[-0.05150282755494118, 0.0588972233235836, -0....</td>\n",
       "      <td>Unreal Engine</td>\n",
       "      <td>skill title</td>\n",
       "    </tr>\n",
       "    <tr>\n",
       "      <th>5</th>\n",
       "      <td>[-0.12205683439970016, 0.03769751638174057, -0...</td>\n",
       "      <td>measurement of building and construction works</td>\n",
       "      <td>skill title</td>\n",
       "    </tr>\n",
       "    <tr>\n",
       "      <th>6</th>\n",
       "      <td>[-0.004400251433253288, -0.007667871192097664,...</td>\n",
       "      <td>security education and awareness</td>\n",
       "      <td>skill title</td>\n",
       "    </tr>\n",
       "    <tr>\n",
       "      <th>7</th>\n",
       "      <td>[-0.021364398300647736, -0.03291257470846176, ...</td>\n",
       "      <td>Travis CI</td>\n",
       "      <td>skill title</td>\n",
       "    </tr>\n",
       "    <tr>\n",
       "      <th>8</th>\n",
       "      <td>[0.025099849328398705, 0.036317531019449234, -...</td>\n",
       "      <td>cleanliness and contamination control</td>\n",
       "      <td>skill title</td>\n",
       "    </tr>\n",
       "    <tr>\n",
       "      <th>9</th>\n",
       "      <td>[0.018627600744366646, 0.02188299596309662, -0...</td>\n",
       "      <td>health, hygiene and nutrition for children</td>\n",
       "      <td>skill title</td>\n",
       "    </tr>\n",
       "  </tbody>\n",
       "</table>\n",
       "</div>"
      ],
      "text/plain": [
       "                                                   0  \\\n",
       "0  [0.0645764097571373, 0.007018603850156069, -0....   \n",
       "1  [-0.025321509689092636, -0.04846109449863434, ...   \n",
       "2  [0.010486770421266556, -0.008886554278433323, ...   \n",
       "3  [-0.021288812160491943, -0.06264938414096832, ...   \n",
       "4  [-0.05150282755494118, 0.0588972233235836, -0....   \n",
       "5  [-0.12205683439970016, 0.03769751638174057, -0...   \n",
       "6  [-0.004400251433253288, -0.007667871192097664,...   \n",
       "7  [-0.021364398300647736, -0.03291257470846176, ...   \n",
       "8  [0.025099849328398705, 0.036317531019449234, -...   \n",
       "9  [0.018627600744366646, 0.02188299596309662, -0...   \n",
       "\n",
       "                                                1            2  \n",
       "0                               supplier sourcing  skill title  \n",
       "1               heavy lifting machinery operation  skill title  \n",
       "2                                          JavaFX  skill title  \n",
       "3           perform rigging of suspended scaffold  skill title  \n",
       "4                                   Unreal Engine  skill title  \n",
       "5  measurement of building and construction works  skill title  \n",
       "6                security education and awareness  skill title  \n",
       "7                                       Travis CI  skill title  \n",
       "8           cleanliness and contamination control  skill title  \n",
       "9      health, hygiene and nutrition for children  skill title  "
      ]
     },
     "execution_count": 37,
     "metadata": {},
     "output_type": "execute_result"
    }
   ],
   "source": [
    "\n",
    "df_clean = pd.DataFrame(list(zip(embeddings, list(df_cleaned['skill_title']), list(df_cleaned['source']))))\n",
    "df_clean.head(10)"
   ]
  },
  {
   "cell_type": "code",
   "execution_count": 20,
   "metadata": {},
   "outputs": [],
   "source": [
    "test = \"\"\"\n",
    "This data scientist job requires the ability to do exploratory data analysis, machine learning and statistical modeling. \n",
    "In addition, we require the candidate to make good presentations to senior management and leadership. One special request is that we will need the candidate to work remotely from Java, Indonesia.\n",
    "\"\"\""
   ]
  },
  {
   "cell_type": "code",
   "execution_count": 43,
   "metadata": {},
   "outputs": [],
   "source": [
    "#Function to aggregate single words to next span if it is adjacent --> part of JINZHA original script\n",
    "\n",
    "def aggregate_span(results):\n",
    "    new_results = []\n",
    "    current_result = results[0]\n",
    "\n",
    "    for result in results[1:]:\n",
    "        if result[\"start\"] == current_result[\"end\"] + 1:\n",
    "            current_result[\"word\"] += \" \" + result[\"word\"]\n",
    "            current_result[\"end\"] = result[\"end\"]\n",
    "        else:\n",
    "            new_results.append(current_result)\n",
    "            current_result = result\n",
    "\n",
    "    new_results.append(current_result)\n",
    "\n",
    "    return new_results"
   ]
  },
  {
   "cell_type": "code",
   "execution_count": 44,
   "metadata": {},
   "outputs": [],
   "source": [
    "def find_similar(q,k):\n",
    "    testing = model.encode(q)\n",
    "    trial = []\n",
    "    vals = cosine_similarity([testing],embeddings)\n",
    "    idx_asc = vals.argsort()[0][-k:]\n",
    "    idx_dsc = idx_asc[::-1]\n",
    "    flatv = np.sort(vals[0])\n",
    "    vk_asc = flatv[-k:]\n",
    "    vk_dsc = vk_asc[::-1]\n",
    "    if(vk_dsc[0]==0):\n",
    "      print(\"No skills matched\")\n",
    "    else:\n",
    "      for v, i in zip(vk_dsc, idx_dsc):\n",
    "        a = {'score' : float(v), 'skill' : df_clean[1][i], 'phrase' : q, 'matched_by': df_clean[2][i]}\n",
    "        trial.append(a)\n",
    "      df_output = pd.DataFrame(trial)\n",
    "      return df_output"
   ]
  },
  {
   "cell_type": "code",
   "execution_count": 45,
   "metadata": {},
   "outputs": [],
   "source": [
    "def ner_combined(text):\n",
    "    output_skills = token_skill_classifier(text)\n",
    "    for result in output_skills:\n",
    "        if result.get(\"entity_group\"):\n",
    "            result[\"entity\"] = \"Skill\"\n",
    "            del result[\"entity_group\"]\n",
    "\n",
    "    output_knowledge = token_knowledge_classifier(text)\n",
    "    for result in output_knowledge:\n",
    "        if result.get(\"entity_group\"):\n",
    "            result[\"entity\"] = \"Knowledge\"\n",
    "            del result[\"entity_group\"]\n",
    "\n",
    "    output = output_skills + output_knowledge\n",
    "\n",
    "    if len(output) > 0:\n",
    "        output_skills = aggregate_span(output)\n",
    "    skill_list = []\n",
    "    for i in output_skills:\n",
    "        skill_list.append(i['word'])\n",
    "    \n",
    "    df_skills_extracted = pd.DataFrame(columns = ['score', 'skill', 'phrase', 'matched_by'])\n",
    "    \n",
    "    #mpnet portion with span extraction\n",
    "    for i in range(len(skill_list)):\n",
    "        df_skills_extracted = pd.concat([find_similar(skill_list[i], 1), df_skills_extracted], ignore_index = True)\n",
    "\n",
    "    span_extracted = df_skills_extracted.sort_values('score', ascending = False).drop_duplicates(subset ='skill', keep = 'first')\n",
    "\n",
    "    span_ex_list = list(span_extracted[span_extracted['score'] >= 0.555]['skill'].sort_values())\n",
    "    \n",
    "    #SEA_V1 portion\n",
    "    sea_v1_list = []\n",
    "    for item in extract_skills(text).values():\n",
    "        for skills in item.values():\n",
    "            sea_v1_list.append(skills['skill_title'])\n",
    "\n",
    "    sea_v1_list.sort()\n",
    "\n",
    "\n",
    "    df_final = pd.DataFrame([[text, span_ex_list, sea_v1_list]], columns = ['Text', 'mpnet_JINZHAspan', 'SEAv1'])\n",
    "\n",
    "    return df_final, span_extracted"
   ]
  },
  {
   "cell_type": "code",
   "execution_count": 53,
   "metadata": {},
   "outputs": [],
   "source": [
    "extracted_skills = ner_combined(test)\n",
    "\n",
    "extracted_skill_df = extracted_skills[0]"
   ]
  },
  {
   "cell_type": "code",
   "execution_count": 54,
   "metadata": {},
   "outputs": [
    {
     "data": {
      "text/html": [
       "<div>\n",
       "<style scoped>\n",
       "    .dataframe tbody tr th:only-of-type {\n",
       "        vertical-align: middle;\n",
       "    }\n",
       "\n",
       "    .dataframe tbody tr th {\n",
       "        vertical-align: top;\n",
       "    }\n",
       "\n",
       "    .dataframe thead th {\n",
       "        text-align: right;\n",
       "    }\n",
       "</style>\n",
       "<table border=\"1\" class=\"dataframe\">\n",
       "  <thead>\n",
       "    <tr style=\"text-align: right;\">\n",
       "      <th></th>\n",
       "      <th>Text</th>\n",
       "      <th>mpnet_JINZHAspan</th>\n",
       "      <th>SEAv1</th>\n",
       "    </tr>\n",
       "  </thead>\n",
       "  <tbody>\n",
       "    <tr>\n",
       "      <th>0</th>\n",
       "      <td>\\nThis data scientist job requires the ability...</td>\n",
       "      <td>[business presentation delivery, data and stat...</td>\n",
       "      <td>[Java, big data analytics]</td>\n",
       "    </tr>\n",
       "  </tbody>\n",
       "</table>\n",
       "</div>"
      ],
      "text/plain": [
       "                                                Text  \\\n",
       "0  \\nThis data scientist job requires the ability...   \n",
       "\n",
       "                                    mpnet_JINZHAspan  \\\n",
       "0  [business presentation delivery, data and stat...   \n",
       "\n",
       "                        SEAv1  \n",
       "0  [Java, big data analytics]  "
      ]
     },
     "execution_count": 54,
     "metadata": {},
     "output_type": "execute_result"
    }
   ],
   "source": [
    "extracted_skill_df"
   ]
  },
  {
   "cell_type": "code",
   "execution_count": 60,
   "metadata": {},
   "outputs": [
    {
     "name": "stdout",
     "output_type": "stream",
     "text": [
      "['business presentation delivery', 'data and statistical analysis', 'data visualisation', 'machine learning application', 'research data analysis']\n"
     ]
    }
   ],
   "source": [
    "for i in extracted_skill_df['mpnet_JINZHAspan']:\n",
    "    print(i)"
   ]
  },
  {
   "cell_type": "code",
   "execution_count": 61,
   "metadata": {},
   "outputs": [
    {
     "name": "stdout",
     "output_type": "stream",
     "text": [
      "['Java', 'big data analytics']\n"
     ]
    }
   ],
   "source": [
    "for i in extracted_skill_df['SEAv1']:\n",
    "    print(i)"
   ]
  },
  {
   "attachments": {},
   "cell_type": "markdown",
   "metadata": {},
   "source": [
    "We note that  SEA V1 didn't just returned lesser skills, but also **wrongly** extracted Java seemingly as a programming language."
   ]
  },
  {
   "attachments": {},
   "cell_type": "markdown",
   "metadata": {},
   "source": [
    "Let try posting the same query to ADA 002!"
   ]
  },
  {
   "cell_type": "code",
   "execution_count": 63,
   "metadata": {},
   "outputs": [
    {
     "name": "stdout",
     "output_type": "stream",
     "text": [
      "{'matches': [{'id': '2606bd4a7d123eb7a47bfc6460afaa88a171812d89ae81c98948ccb42483ad08', 'score': 0.830264628, 'metadata': {'skill_description_final': 'Data Collection and Analysis: Skill in data analysis and interpretation to identify opportunities and risks, and provide meaningful insights to inform decision making. Utilize appropriate techniques and tools to collect, extract and interpret data, and engage stakeholders to communicate findings.', 'skill_title': 'Data Collection and Analysis', 'skill_type': 'SFw TSC'}}, {'id': '11e651fbc6af74d20fd3740b27da9fad919c050e73454c69511183f6da6e3dcd', 'score': 0.820142746, 'metadata': {'skill_description_final': 'Infographics and Data Visualisation: Create visualisations, infographics and reports to communicate data insights and drive data-driven decision-making. Lead and coach teams in the use of data visualisation tools to enable effective storytelling.', 'skill_title': 'Infographics and Data Visualisation', 'skill_type': 'SFw TSC'}}, {'id': '36c8f285dda595eff288dc7783c2b25299deaf7b3418a4d343c5175da883fa5f', 'score': 0.820017278, 'metadata': {'skill_description_final': 'Analytics and Computational Modelling: Develop and apply algorithms and advanced computational methods to enable systems or software agents to learn, improve, adapt and produce desired outcomes. Interpret data, apply data modelling techniques, conduct basic data analysis and statistical modelling, and develop and utilise new algorithms and models. Identify and utilise appropriate statistical algorithms and data models to test hypotheses and derive patterns or solutions.', 'skill_title': 'Analytics and Computational Modelling', 'skill_type': 'SFw TSC'}}, {'id': '2b153ddfe88b26480a4a9e26e570d491a8d5f0f3b277b7cdd9efb51a5090a3ff', 'score': 0.817646205, 'metadata': {'skill_description_final': 'Data and Statistical Analysis: Data analysis and interpretation, using statistical techniques to uncover trends and patterns, to identify process improvement opportunities and develop new analytics solutions. Utilize big data analytics to drive solutions and improve business processes, and apply data analytic techniques to process and interpret data.', 'skill_title': 'Data and Statistical Analysis', 'skill_type': 'SFw TSC'}}, {'id': '359b216b2f2f109af93a68ceaf2c044033286f5139cd8b9d46883c017a20334d', 'score': 0.816047, 'metadata': {'skill_description_final': 'Data Analysis and Interpretation: Analyse data to identify patterns and insights, develop strategies to improve organisational performance, and advise stakeholders on design solutions. Clean and manipulate data, and apply data mining techniques to uncover new insights.', 'skill_title': 'Data Analysis and Interpretation', 'skill_type': 'SFw TSC'}}, {'id': '053e715bccecd2cfb105d0d812fcec8c6f52ea3c4c75ccdabb5cd54cf3291255', 'score': 0.812183797, 'metadata': {'skill_description_final': 'Business Data Analysis: Analyse and interpret data to identify trends and patterns, develop and apply algorithms, predictive data modelling and data visualisation to generate business insights and intelligence. Design and conduct data studies to inform organisational decisions.', 'skill_title': 'Business Data Analysis', 'skill_type': 'SFw TSC'}}, {'id': '7924b8d1615f96f8f127b151f6b644117abc81d72f96445f36e4773e52a201de', 'score': 0.810988367, 'metadata': {'skill_description_final': 'Data Storytelling and Visualisation: Developing the ability to interpret data and create compelling visualisations and narratives to communicate key insights, trends and findings. Utilising advanced visualisation techniques and tools to effectively deliver data-driven messages.', 'skill_title': 'Data Storytelling and Visualisation', 'skill_type': 'SFw TSC'}}, {'id': '10aabeb2b576d3270a2e686119749cdfbf36d51705e2250925aec50d6411b8ff', 'score': 0.809269, 'metadata': {'skill_description_final': 'Data Analytics System Design: Utilize data analytics to identify and improve system bottlenecks. Define hypotheses, select big data technologies and tools, review statistical models, and deploy models to production environment. Ingest and prepare data for analytics, and review and cleanse data for analytics.', 'skill_title': 'Data Analytics System Design', 'skill_type': 'SFw TSC'}}, {'id': '0317c708c23c0d0bc2917e8c9ad988ddc414a59453231b2c5e58175a2482485c', 'score': 0.808389843, 'metadata': {'skill_description_final': 'Data Visualisation: Design and develop data visualisations to effectively communicate insights and trends from data, using contemporary techniques and dynamic displays. Select appropriate visualisation techniques and develop dashboards to reflect data trends and findings. Establish an effective data visualisation architecture and design intelligent and adaptable displays.', 'skill_title': 'Data Visualisation', 'skill_type': 'SFw TSC'}}, {'id': 'e07f7cbd7532e425a72687ed7fc0a166936b9a56d06403999666a9760f164cb2', 'score': 0.806683779, 'metadata': {'skill_description_final': 'Data-Mining and Modelling: Developing and deploying data modelling techniques to identify trends and patterns, exploring and correlating data sets, safeguarding data accuracy and integrity, and creating data-mining and modelling methodologies.', 'skill_title': 'Data-Mining and Modelling', 'skill_type': 'SFw TSC'}}, {'id': 'b164e67ba8961e2fe23b7c4fd780f4a4c47b531914dd80bdd8ce154dddb9e5a5', 'score': 0.802231669, 'metadata': {'skill_description_final': 'Data Migration: Data migration skill, including planning, performing, troubleshooting, validating, and establishing guidelines to minimise impact. Ability to determine business need and ensure accuracy of migrated data.', 'skill_title': 'Data Migration', 'skill_type': 'SFw TSC'}}, {'id': '15ad8da0175e82829e34dfe0fd242cc90d0e8cfbeb7147f514ee988e3e343c03', 'score': 0.801396072, 'metadata': {'skill_description_final': 'Computational Modelling: Design and apply advanced algorithms and computational models to enable systems or software agents to learn, improve, adapt and produce desired outcomes. Interpret data and apply data modelling techniques to explore and address specific issues. Identify and utilise appropriate statistical algorithms and data models to test hypotheses and derive patterns or solutions. Develop new algorithms and advanced statistical models to enable desired outcomes.', 'skill_title': 'Computational Modelling', 'skill_type': 'SFw TSC'}}, {'id': '356d54263262135dc9f93d8869e1817bf5a57ef20a1cb69fab7dcb397343936b', 'score': 0.800274372, 'metadata': {'skill_description_final': 'Laboratory Data Analysis: Analyse and interpret data, review and recommend improvements, collect and perform calculations, and present reports. Utilize data to draw conclusions and provide insights.', 'skill_title': 'Laboratory Data Analysis', 'skill_type': 'SFw TSC'}}, {'id': '5a6a70dc6b2b4a44757acc6875b900e9f0a8359c8c10495def0014704462df0d', 'score': 0.79993856, 'metadata': {'skill_description_final': 'Big Data Analytics: Data analysis and modelling to identify patterns and trends in large datasets, with the aim of improving design and maintenance schedules in a marine context. Utilizing advanced analytics and big data to inform strategic decisions and business development opportunities. Hypotheses development and testing with advanced analytical methods.', 'skill_title': 'Big Data Analytics', 'skill_type': 'SFw TSC'}}, {'id': 'f5df5fa134c461878b19869bf53a734653378d711aa2cfdec0550651564b3ad7', 'score': 0.799151123, 'metadata': {'skill_description_final': 'Cloudera Data Science Workbench (CDSW) is an enterprise-grade platform for data scientists to develop, collaborate, and deploy models quickly and securely. It provides an integrated environment for data science teams to develop, test, and deploy models in production.', 'skill_title': 'Cloudera Data Science Workbench (CDSW)', 'skill_type': 'Apps and Tools'}}, {'id': 'be13a485d42a8ad3dc6803ea6d9c1dad2eae089de38725ee0cb40c229a0d3682', 'score': 0.799138665, 'metadata': {'skill_description_final': 'Quantitative Research: Analyse data using advanced mathematical models and theories to uncover patterns, test hypotheses and draw sound conclusions. Develop strategies to evaluate data and assumptions, and formulate methodologies and techniques to collect and analyse data. Utilize mathematical and statistical testing to derive insights and formulate recommendations.', 'skill_title': 'Quantitative Research', 'skill_type': 'SFw TSC'}}, {'id': '0fd80ee799d2d3f12023e25b759179f1d496fe1b673df55968f11bcb03468c0e', 'score': 0.798760116, 'metadata': {'skill_description_final': 'Information Gathering and Analysis: Analyse data to identify business insights and opportunities, interpret findings, and communicate results to stakeholders. Utilize appropriate techniques and tools to collect and analyse information.', 'skill_title': 'Information Gathering and Analysis', 'skill_type': 'SFw TSC'}}, {'id': 'd1d24dfd378e82c411d16dc62d84924af8909eba5fedd8da44c2b6a75cb4d356', 'score': 0.798142612, 'metadata': {'skill_description_final': 'Laboratory Data Reporting and Analysis Management: Skill in data management and analysis, including collation, record, access and retrieval from laboratory information management systems (LIMS), interpretation of procedures, data analysis and reporting, development of methodologies, supervision and monitoring of quality, and evaluation of methodologies. Ability to identify data recording and reporting procedures to assist in basic data reporting activities.', 'skill_title': 'Laboratory Data Reporting and Analysis Management', 'skill_type': 'SFw TSC'}}, {'id': '2f4be2b7365db145d7a81cacc9ae06071a33662c5f499e5994507d15d2f35799', 'score': 0.797619045, 'metadata': {'skill_description_final': 'Data Engineering: Data management and integration, including the collection, storage, extraction, transformation, loading and integration of data from multiple sources, to create data structures and processes that meet business requirements. Utilising tools and techniques to ensure data reliability and optimise the data pipeline.', 'skill_title': 'Data Engineering', 'skill_type': 'SFw TSC'}}, {'id': '9223a67a555056f94430fe32a35a119889f929c5149daf7513771a22f7a1c07d', 'score': 0.796591282, 'metadata': {'skill_description_final': 'Text Analytics and Processing: Developing expertise in text analytics and natural language processing (NLP) to identify, extract and analyse data to uncover meaningful insights. Utilizing advanced machine learning techniques to build models for text processing tasks and create systems that can interact with users using natural language.', 'skill_title': 'Text Analytics and Processing', 'skill_type': 'SFw TSC'}}, {'id': '05efa97b8f4051a9ef44f4fb70908c4cfd15314ed7d2f42b540a3fc7dba49d15', 'score': 0.795652151, 'metadata': {'skill_description_final': 'Human Resource Analytics and Insights: Utilize statistical and analytical techniques to generate insights and projections related to human resources. Investigate HR issues through data analytics and insight generation. Align statistical models to organisational needs to draw and present relevant business insights. Analyse data to draw inferences and conduct statistical modelling to derive insights.', 'skill_title': 'Human Resource Analytics and Insights', 'skill_type': 'SFw TSC'}}, {'id': 'c050c65a30bf7601012e7d5390502b28ed336178a057e5f34ec2d7fb4567106e', 'score': 0.795434415, 'metadata': {'skill_description_final': 'Trend Forecasting: Analyse data to identify trends and patterns, predict and plan for future events, and develop systems for trend forecasting. Lead the development of recommendations to help the organisation stay up to date with trends. Report findings on market and industry trends.', 'skill_title': 'Trend Forecasting', 'skill_type': 'SFw TSC'}}, {'id': '5ace7a4c1313c8ff5e302612c557906c21f0cdd63b4aa43aed4e408d28bb1c7a', 'score': 0.795170069, 'metadata': {'skill_description_final': 'Forensic Data Analytics: Analyse data using statistical techniques to uncover trends and patterns, formulate plans and policies, and guide analyses to detect fraud. Utilize forensic technologies to identify and investigate suspicious activities.', 'skill_title': 'Forensic Data Analytics', 'skill_type': 'SFw TSC'}}, {'id': 'ce118cc5f6f721d29fcf14acfe876303d3e76602c36f17faeecdd6ad99d1a94d', 'score': 0.793003142, 'metadata': {'skill_description_final': 'Data and Information Visualisation: Data Visualization: Utilize communication, data science and design to present complex insights and information in a way that engages audiences and facilitates decision-making. Create data-driven stories that resonate with the audience and communicate key messages clearly and efficiently through statistical graphics, plots and information graphics.', 'skill_title': 'Data and Information Visualisation', 'skill_type': 'SFw TSC'}}, {'id': 'd6ae5124c70e9573c9515d90f7e71862bada11518c377bac8a30377064b794aa', 'score': 0.792649448, 'metadata': {'skill_description_final': 'Sense Making: Analytical thinking and problem-solving skills to interpret data, identify patterns, draw conclusions and inform decisions. Ability to evaluate relationships, spot opportunities and generate insights.', 'skill_title': 'Sense Making', 'skill_type': 'SFw CCS'}}, {'id': '67cb3723219851daf6ee5599fefbf06889681b2d1f926d1a8934b682ed65d2aa', 'score': 0.791517377, 'metadata': {'skill_description_final': 'Applications Development: Developing applications from design specifications, including coding, testing, debugging, documenting and refining. Ability to lead large-scale projects and explore advanced capabilities to enhance the application. Debugging complex errors and planning the development process. Reusing, improving, reconfiguring, adding or integrating existing and/or new components.', 'skill_title': 'Applications Development', 'skill_type': 'SFw TSC'}}, {'id': 'd27d24aa3f956080ee0a806e6e32af8f431ebe86c9a532a09c7611ec87dcb00e', 'score': 0.790936053, 'metadata': {'skill_description_final': 'Trading Analysis: Analyze market data to inform trading decisions. Develop and review research reports to support strategies and decisions. Direct market research to inform trading strategies.', 'skill_title': 'Trading Analysis', 'skill_type': 'SFw TSC'}}, {'id': '5605b138e89f10e98d750d7f3e03c29d43b2bd4378b7eb33195bf43529d1059e', 'score': 0.79081583, 'metadata': {'skill_description_final': 'Game Analytics: Analyse data to identify trends and insights, develop hypotheses, and provide feedback to improve performance. Utilize metrics to understand and operationalize data to inform decisions and drive improvements.', 'skill_title': 'Game Analytics', 'skill_type': 'SFw TSC'}}, {'id': 'd1cefec843d70ae21a917bb24fe076c11f1053f8cfdbddef341b2da138403173', 'score': 0.789837539, 'metadata': {'skill_description_final': 'Intelligent Reasoning: Design and build intelligent software systems that can integrate, make sense of, and act upon data from multiple sources. Utilize machine reasoning techniques and computer programming to create knowledge-based applications. Evaluate and refine these systems to ensure optimal performance.', 'skill_title': 'Intelligent Reasoning', 'skill_type': 'SFw TSC'}}, {'id': 'cbcdd92853b24b734f895a9a54a02d0a0dd91b3cd3ad1955867cc3a91db63598', 'score': 0.78966552, 'metadata': {'skill_description_final': \"Google Data Studio is a free data visualization and reporting tool that helps you turn your data into informative, easy-to-read reports and dashboards. It's easy to use and helps you quickly create beautiful, interactive visuals to share with your team.\", 'skill_title': 'Google Data Studio (Software)', 'skill_type': 'Apps and Tools'}}, {'id': 'fc9560c0c055d37a88c8dd6eb8c7d68e2692625b6e5980a669cf49bfac4982a8', 'score': 0.78939867, 'metadata': {'skill_description_final': 'Apache Spark is an open-source distributed processing engine for big data analytics. It enables users to quickly and easily process large datasets with high-level APIs in Java, Python, Scala, and R. Spark is designed to be fast, easy to use, and highly scalable.', 'skill_title': 'Apache Spark', 'skill_type': 'Apps and Tools'}}, {'id': 'cd2c0f63ad37d585e77b3f1c584539e26bf7928710ac8fb19fd377f61b7326e6', 'score': 0.789012074, 'metadata': {'skill_description_final': 'Anaconda is a powerful open-source data science platform that enables users to easily manage their data science, machine learning, and artificial intelligence workflows. It provides a comprehensive collection of tools and libraries for data analysis, visualization, and machine learning.', 'skill_title': 'Anaconda', 'skill_type': 'Apps and Tools'}}, {'id': '8a80d72f8e8d74f1e0f01f114c8b35352ebe4fd634eb98aebb10c1714df3279f', 'score': 0.78816092, 'metadata': {'skill_description_final': 'Data Design: Design and implement data models and structures to optimise the flow, maintenance, storage and retrieval of data. Establish strategies for large-scale data models and structures and spearhead the implementation of database technology, architectures, software and facilities. Identify data requirements and design database models, incorporating parameters, fields and mechanisms.', 'skill_title': 'Data Design', 'skill_type': 'SFw TSC'}}, {'id': 'a78fde259201c5d8e65cfc62bed8304cca9ea2d14e25f1a285cd300cd156a6ea', 'score': 0.788116336, 'metadata': {'skill_description_final': 'Data Collection and Management: Develop and maintain data collection and management processes. Utilize research methodologies to collect and manage data, ensuring compliance with organisational standards. Set up and manage research databases, and provide guidance to junior researchers.', 'skill_title': 'Data Collection and Management', 'skill_type': 'SFw TSC'}}, {'id': '0acc7dc223cb16a4fa7b95944081bc3e07e367bef711a366ff4f1b97896db50e', 'score': 0.786478579, 'metadata': {'skill_description_final': 'Software Configuration: Configure and deploy software products, analytics and modelling solutions to various platforms and operating environments. Establish release and configuration plans, apply scripts and tools, and evaluate test results to recommend modifications. Identify scripts, tools, and system needs to ensure successful configuration.', 'skill_title': 'Software Configuration', 'skill_type': 'SFw TSC'}}, {'id': '822e5855854f6133201e0baf379f67b61ac0d6c91a17856124d2f45b0728cc60', 'score': 0.786347389, 'metadata': {'skill_description_final': 'Game Artificial Intelligence Development: Design and develop algorithms, programming logic and code to implement Artificial Intelligence features in software applications. Lead the design and development of AI algorithms and programs, and define technical goals for AI systems. Conceive AI behaviours and write code to implement them, as well as optimise existing AI systems for better performance.', 'skill_title': 'Game Artificial Intelligence Development', 'skill_type': 'SFw TSC'}}, {'id': '970754bad5d24fd815c7356378df101fc5b69f50b8173919888b9bc3d97c20c5', 'score': 0.785992444, 'metadata': {'skill_description_final': 'Statistica is an advanced analytics and data visualization tool that helps you make informed decisions. It provides powerful predictive analytics, data mining, and forecasting capabilities to uncover hidden patterns and trends in your data. With Statistica, you can quickly and easily analyze data and create stunning visualizations.', 'skill_title': 'Statistica', 'skill_type': 'Apps and Tools'}}, {'id': '706dbda65df20ae12af955405d9891f78cd8f0228e47a96b9b12f5e2e7e79b4f', 'score': 0.785733402, 'metadata': {'skill_description_final': 'Data Collection and Preparation: Collect and analyze human resource data to generate business and HR insights. Utilize tools and techniques to gather data and ensure processes are aligned with business objectives. Oversee data collection processes to ensure successful administration.', 'skill_title': 'Data Collection and Preparation', 'skill_type': 'SFw TSC'}}, {'id': '24839e97929783df71be9bf18caba006b393d9d41b08247d1b7ac7eafb5b9d37', 'score': 0.785598159, 'metadata': {'skill_description_final': 'SAS Enterprise Miner is an advanced analytics tool that enables users to quickly and easily build predictive models and uncover hidden patterns and relationships in data. It provides powerful data mining and machine learning capabilities to help users make better decisions.', 'skill_title': 'SAS Enterprise Miner', 'skill_type': 'Apps and Tools'}}, {'id': '3dab594c0dc5241bb3ed411abafb7296087448484bc6011f4b536aa771cbcbd5', 'score': 0.785296917, 'metadata': {'skill_description_final': 'Jaspersoft Business Intelligence Suite is a powerful, comprehensive suite of tools for data analysis, reporting, and visualization. It enables users to quickly and easily access, analyze, and share data from multiple sources. It provides an intuitive, user-friendly interface for creating interactive dashboards and reports.', 'skill_title': 'Jaspersoft Business Intelligence Suite', 'skill_type': 'Apps and Tools'}}, {'id': '3cf2d1e1877d97764bf6888f3a0f9ca8dc024b139c3120dd6bd74f16fbd9e201', 'score': 0.784158826, 'metadata': {'skill_description_final': 'Job Analysis and Evaluation: Analyze job requirements and expectations, consolidate information, and evaluate job analysis and evaluation processes. Review and perform job analysis and evaluation to ensure accuracy and effectiveness.', 'skill_title': 'Job Analysis and Evaluation', 'skill_type': 'SFw TSC'}}, {'id': '23b1189b2489fc7e4433e2f1857957163b38650c142b45cd94339847e5ca528f', 'score': 0.784000456, 'metadata': {'skill_description_final': 'Business Insights: Developing the ability to define and operationalize metrics and hypotheses to generate business insights from data analytics, to inform strategic decision making.', 'skill_title': 'Business Insights', 'skill_type': 'SFw TSC'}}, {'id': '22b5041d048263f07c5013b83c726783642849b8ac22fca5a40195c64a4305af', 'score': 0.783866584, 'metadata': {'skill_description_final': 'Service Information and Results: Data analysis and customer service management skills to assess and improve service performance and customer satisfaction. Developing networks and analysing customer data to identify areas for improvement and implement plans to close gaps. Monitoring service performance and customer satisfaction levels to ensure service excellence.', 'skill_title': 'Service Information and Results', 'skill_type': 'SFw TSC'}}, {'id': 'e730e80bbad21828b158454c39274bc6ea212da9aaab48693ec385036509d56e', 'score': 0.783462107, 'metadata': {'skill_description_final': 'Hospitality Data Collection and Analysis: Analyse data to provide insights and inform decisions. Gather data using appropriate techniques and tools, and use statistical techniques to analyse and present findings. Identify organisational needs and use data to review insights and make strategic decisions.', 'skill_title': 'Hospitality Data Collection and Analysis', 'skill_type': 'SFw TSC'}}, {'id': '5ff7c3e87f1aef3410d3cb6bcc14f037bd49ac8c8ac931ab0a0e7ad7917f4e4b', 'score': 0.782951176, 'metadata': {'skill_description_final': 'JMP is an interactive data analysis and visualization tool that helps you explore, analyze, and present data quickly and easily. It enables you to quickly identify patterns, trends, and relationships in your data.', 'skill_title': 'JMP', 'skill_type': 'Apps and Tools'}}, {'id': '0662bf17ad214c77c6d708321a6bc5bce0b1ea1d98831cda3210cb22c238157e', 'score': 0.782898724, 'metadata': {'skill_description_final': 'Weka is a powerful open-source data mining tool that enables users to explore, visualize, and analyze data. It provides a comprehensive suite of machine learning algorithms for data mining tasks, such as classification, clustering, and association rule mining.', 'skill_title': 'Weka (Waikato Environment for Knowledge Analysis)', 'skill_type': 'Apps and Tools'}}, {'id': '9cf8c9635f365af3776cbc74103e6e3569b9dbca14a551cd037c97f228d3e47f', 'score': 0.782835424, 'metadata': {'skill_description_final': 'Teradata is an enterprise-level data warehouse and analytics platform that enables organizations to store, manage, and analyze large volumes of data. It provides powerful tools to help businesses make informed decisions and drive growth.', 'skill_title': 'Teradata', 'skill_type': 'Apps and Tools'}}, {'id': '6efcdd3916b5814c4c214e3b9fd5a58b7ab97430d547d62f001dec9f26c0bd69', 'score': 0.782491922, 'metadata': {'skill_description_final': 'Communication: Excellent communication skills, including the ability to synthesize information, tailor approaches to different audiences, and effectively exchange ideas and information through various mediums.', 'skill_title': 'Communication', 'skill_type': 'SFw CCS'}}, {'id': '5456e7961d6f57b33023ce661029d8a900a13830aa8f3f68b0f0116264efe313', 'score': 0.782327235, 'metadata': {'skill_description_final': 'Learner Profile Analysis: Design and plan learning experiences based on learner demographics and learning styles. Analyse data to identify appropriate approaches and develop strategies to deliver effective learning experiences.', 'skill_title': 'Learner Profile Analysis', 'skill_type': 'SFw TSC'}}, {'id': 'c8e4fb4ef0b2a3109de8f5263207555b09d3e58c8012bb723008ba4437bf6118', 'score': 0.782010317, 'metadata': {'skill_description_final': 'SEMMA is a powerful data mining tool that helps businesses uncover hidden patterns and trends in their data. It provides an intuitive graphical user interface to quickly and easily explore data, build predictive models, and visualize results. SEMMA is an invaluable tool for data scientists and business analysts alike.', 'skill_title': 'SEMMA', 'skill_type': 'Apps and Tools'}}], 'namespace': ''}\n"
     ]
    }
   ],
   "source": [
    "r = requests.post('https://ssg-course-search-ai.herokuapp.com/skills_finder', json={'query': test})\n",
    "\n",
    "r = r.json()\n",
    "print(r)"
   ]
  },
  {
   "cell_type": "code",
   "execution_count": 74,
   "metadata": {},
   "outputs": [
    {
     "name": "stdout",
     "output_type": "stream",
     "text": [
      "Data Collection and Analysis\n",
      "Infographics and Data Visualisation\n",
      "Analytics and Computational Modelling\n",
      "Data and Statistical Analysis\n",
      "Data Analysis and Interpretation\n",
      "Business Data Analysis\n",
      "Data Storytelling and Visualisation\n",
      "Data Analytics System Design\n",
      "Data Visualisation\n",
      "Data-Mining and Modelling\n",
      "Data Migration\n",
      "Computational Modelling\n",
      "Laboratory Data Analysis\n"
     ]
    }
   ],
   "source": [
    "for item in r['matches']:\n",
    "    if item['score'] >= 0.8:\n",
    "        print(item['metadata']['skill_title'])"
   ]
  },
  {
   "attachments": {},
   "cell_type": "markdown",
   "metadata": {},
   "source": []
  }
 ],
 "metadata": {
  "kernelspec": {
   "display_name": "skillextraction",
   "language": "python",
   "name": "python3"
  },
  "language_info": {
   "codemirror_mode": {
    "name": "ipython",
    "version": 3
   },
   "file_extension": ".py",
   "mimetype": "text/x-python",
   "name": "python",
   "nbconvert_exporter": "python",
   "pygments_lexer": "ipython3",
   "version": "3.10.6"
  },
  "orig_nbformat": 4
 },
 "nbformat": 4,
 "nbformat_minor": 2
}
